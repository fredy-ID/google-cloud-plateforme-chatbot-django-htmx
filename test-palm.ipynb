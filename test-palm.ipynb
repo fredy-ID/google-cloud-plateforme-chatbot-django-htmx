{
 "cells": [
  {
   "cell_type": "code",
   "execution_count": 3,
   "metadata": {},
   "outputs": [],
   "source": [
    "from google.cloud import aiplatform\n",
    "import vertexai\n",
    "from vertexai.preview.language_models import TextGenerationModel"
   ]
  },
  {
   "cell_type": "code",
   "execution_count": 4,
   "metadata": {},
   "outputs": [],
   "source": [
    "PROJECT_ID = \"linen-tempest-404304\"\n",
    "BUCKET = \"chatbot-test-858569\"\n",
    "LOCATION = \"europe-west9\""
   ]
  },
  {
   "cell_type": "code",
   "execution_count": 9,
   "metadata": {},
   "outputs": [
    {
     "name": "stdout",
     "output_type": "stream",
     "text": [
      "Creating Tensorboard\n"
     ]
    },
    {
     "name": "stderr",
     "output_type": "stream",
     "text": [
      "INFO:google.cloud.aiplatform.tensorboard.tensorboard_resource:Creating Tensorboard\n"
     ]
    },
    {
     "name": "stdout",
     "output_type": "stream",
     "text": [
      "Create Tensorboard backing LRO: projects/604879657231/locations/europe-west9/tensorboards/5032772583586529280/operations/3242884201799745536\n"
     ]
    },
    {
     "name": "stderr",
     "output_type": "stream",
     "text": [
      "INFO:google.cloud.aiplatform.tensorboard.tensorboard_resource:Create Tensorboard backing LRO: projects/604879657231/locations/europe-west9/tensorboards/5032772583586529280/operations/3242884201799745536\n"
     ]
    },
    {
     "name": "stdout",
     "output_type": "stream",
     "text": [
      "Tensorboard created. Resource name: projects/604879657231/locations/europe-west9/tensorboards/5032772583586529280\n"
     ]
    },
    {
     "name": "stderr",
     "output_type": "stream",
     "text": [
      "INFO:google.cloud.aiplatform.tensorboard.tensorboard_resource:Tensorboard created. Resource name: projects/604879657231/locations/europe-west9/tensorboards/5032772583586529280\n"
     ]
    },
    {
     "name": "stdout",
     "output_type": "stream",
     "text": [
      "To use this Tensorboard in another session:\n"
     ]
    },
    {
     "name": "stderr",
     "output_type": "stream",
     "text": [
      "INFO:google.cloud.aiplatform.tensorboard.tensorboard_resource:To use this Tensorboard in another session:\n"
     ]
    },
    {
     "name": "stdout",
     "output_type": "stream",
     "text": [
      "tb = aiplatform.Tensorboard('projects/604879657231/locations/europe-west9/tensorboards/5032772583586529280')\n"
     ]
    },
    {
     "name": "stderr",
     "output_type": "stream",
     "text": [
      "INFO:google.cloud.aiplatform.tensorboard.tensorboard_resource:tb = aiplatform.Tensorboard('projects/604879657231/locations/europe-west9/tensorboards/5032772583586529280')\n"
     ]
    }
   ],
   "source": [
    "aiplatform.init(\n",
    "    # your Google Cloud Project ID or number\n",
    "    # environment default used is not set\n",
    "    project=PROJECT_ID,\n",
    "\n",
    "    # the Vertex AI region you will use\n",
    "    # defaults to us-central1\n",
    "    location=LOCATION,\n",
    "\n",
    "    # Google Cloud Storage bucket in same region as location\n",
    "    # used to stage artifacts\n",
    "    staging_bucket='gs://chatbot-test-858569',\n",
    "\n",
    "    # custom google.auth.credentials.Credentials\n",
    "    # environment default credentials used if not set\n",
    "    # credentials=my_credentials,\n",
    "\n",
    "    # customer managed encryption key resource name\n",
    "    # will be applied to all Vertex AI resources if set\n",
    "    # encryption_spec_key_name=my_encryption_key_name,\n",
    "\n",
    "    # the name of the experiment to use to track\n",
    "    # logged metrics and parameters\n",
    "    experiment='my-experiment',\n",
    "\n",
    "    # description of the experiment above\n",
    "    experiment_description='my experiment description'\n",
    ")"
   ]
  },
  {
   "cell_type": "code",
   "execution_count": 10,
   "metadata": {},
   "outputs": [],
   "source": [
    "from vertexai.preview.language_models import TextGenerationModel\n",
    "\n",
    "def interview(temperature: float = .2):\n",
    "    \"\"\"Ideation example with a Large Language Model\"\"\"\n",
    "\n",
    "    # TODO developer - override these parameters as needed:\n",
    "    parameters = {\n",
    "        \"temperature\": temperature,\n",
    "        \"max_output_tokens\": 256,   \n",
    "        \"top_p\": .8,                \n",
    "        \"top_k\": 40,                 \n",
    "    }\n",
    "\n",
    "    model = TextGenerationModel.from_pretrained(\"text-bison@001\")\n",
    "    response = model.predict(\n",
    "        'Give me ten interview questions for the role of program manager.',\n",
    "        **parameters,\n",
    "    )\n",
    "    print(f\"Response from Model: {response.text}\")"
   ]
  },
  {
   "cell_type": "code",
   "execution_count": 11,
   "metadata": {},
   "outputs": [
    {
     "name": "stdout",
     "output_type": "stream",
     "text": [
      "Response from Model: 1. What is your experience with project management?\n",
      "2. What is your process for managing a project?\n",
      "3. How do you handle unexpected challenges or roadblocks?\n",
      "4. How do you communicate with stakeholders?\n",
      "5. How do you measure the success of a project?\n",
      "6. What are your strengths and weaknesses as a project manager?\n",
      "7. What are your salary expectations?\n",
      "8. What are your career goals?\n",
      "9. What are your thoughts on the company's mission and vision?\n",
      "10. Why do you want to work for this company?\n"
     ]
    }
   ],
   "source": [
    "interview()"
   ]
  },
  {
   "cell_type": "code",
   "execution_count": null,
   "metadata": {},
   "outputs": [],
   "source": []
  }
 ],
 "metadata": {
  "kernelspec": {
   "display_name": ".env",
   "language": "python",
   "name": "python3"
  },
  "language_info": {
   "codemirror_mode": {
    "name": "ipython",
    "version": 3
   },
   "file_extension": ".py",
   "mimetype": "text/x-python",
   "name": "python",
   "nbconvert_exporter": "python",
   "pygments_lexer": "ipython3",
   "version": "3.11.4"
  }
 },
 "nbformat": 4,
 "nbformat_minor": 2
}
